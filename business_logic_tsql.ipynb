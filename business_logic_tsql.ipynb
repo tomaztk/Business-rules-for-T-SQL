{
    "metadata": {
        "kernelspec": {
            "name": "SQL",
            "display_name": "SQL",
            "language": "sql"
        },
        "language_info": {
            "name": "sql",
            "version": ""
        }
    },
    "nbformat_minor": 2,
    "nbformat": 4,
    "cells": [
        {
            "cell_type": "markdown",
            "source": [
                "## **Mastering business rules in your T-SQL Queries**"
            ],
            "metadata": {
                "azdata_cell_guid": "e5e1e460-95ad-4a65-83eb-78bf75f1634c"
            },
            "attachments": {}
        },
        {
            "cell_type": "markdown",
            "source": [
                "The concept of this notebook is to discuss the problem of coding business rules, work processes and any other type of business logic in your T-SQL code. This habit usually backfires in a form of poor documentation, many business rules coded on many different places, queries, procedures, functions or views.\n",
                "\n",
                "We will take a look into couple of bad habits and provide a clean, better and sustainable solutions, that one can implement into their code.\n",
                "\n",
                "  \n",
                "\n",
                "1\\. Repetitive tasks\n",
                "\n",
                "2\\. Business logic in SELECT clause\n",
                "\n",
                "3\\. Business logic build in WHERE clause \n",
                "\n",
                "4\\. Implementing error coding"
            ],
            "metadata": {
                "azdata_cell_guid": "c292bb6a-609b-4bf6-800a-86d0a23b1659"
            },
            "attachments": {}
        },
        {
            "cell_type": "markdown",
            "source": [
                "To go through the understanding of the ideas and solution, let's create a simple data sample."
            ],
            "metadata": {
                "azdata_cell_guid": "5e7dd060-f944-432f-8fcf-41e0484e00ab"
            },
            "attachments": {}
        },
        {
            "cell_type": "code",
            "source": [
                "USE QL;\n",
                "-- Create sample tables and data\n",
                "\n",
                "DROP TABLE IF EXISTS dbo.PERSON\n",
                "DROP TABLE IF EXISTS dbo.INVOICE\n",
                "\n",
                "\n",
                "CREATE TABLE dbo.PERSON \n",
                "(\n",
                "     ID INT NOT NULL\n",
                "    ,[Name] VARCHAR(20)\n",
                "    ,ZIP VARCHAR(20)\n",
                "    ,Number_Purchases INT\n",
                ")\n",
                "INSERT INTO dbo.PERSON (ID, [Name], ZIP, Number_Purchases)\n",
                "SELECT 1, 'Mike', 93120, 22 UNION ALL\n",
                "SELECT 2, 'Polde', NULL, 0 UNION ALL\n",
                "SELECT 3, 'Jane', 1000, 2 UNION ALL\n",
                "SELECT 4, 'Stacey', 35330, NULL \n",
                "\n",
                "\n",
                "\n",
                "CREATE TABLE dbo.INVOICE\n",
                "(\n",
                "     ID_Invoice INT NOT NULL\n",
                "    ,ID_Product VARCHAR(50) NULL\n",
                "    ,PRoduct_NAme Varchar(100) \n",
                "    ,ID_Person INT\n",
                "    ,ProductQuantity INT\n",
                "    ,PRoductPrice DECIMAL(10,2)\n",
                ")\n",
                "\n",
                "INSERT INTO dbo.INVOICE (ID_Invoice, ID_Product, Product_Name, ID_Person, ProductQuantity, PRoductPrice)\n",
                "SELECT 120, '11110111','Hand Watch', 2, 1, 100 UNION ALL\n",
                "SELECT 111, '11119214','Small TV', 5,1,-1 UNION ALL\n",
                "SELECT 111, '11119421','Small remote', 5,1,10 UNION ALL\n",
                "SELECT 140, '1111241','Powerbank', 4,NULL,NULL UNION ALL\n",
                "SELECT 144, '1111242','Powerbank v2', 3,1,NULL \n",
                "\n",
                ""
            ],
            "metadata": {
                "language": "sql",
                "azdata_cell_guid": "9db2dd36-0fee-4a84-8b7b-38b6b71a20c6",
                "tags": [
                    "hide_input"
                ]
            },
            "outputs": [
                {
                    "output_type": "display_data",
                    "data": {
                        "text/html": "(4 rows affected)"
                    },
                    "metadata": {}
                },
                {
                    "output_type": "display_data",
                    "data": {
                        "text/html": "(5 rows affected)"
                    },
                    "metadata": {}
                },
                {
                    "output_type": "display_data",
                    "data": {
                        "text/html": "Total execution time: 00:00:00.036"
                    },
                    "metadata": {}
                }
            ],
            "execution_count": 10
        },
        {
            "cell_type": "markdown",
            "source": [
                "In addition to"
            ],
            "metadata": {
                "language": "sql",
                "azdata_cell_guid": "b4464531-b353-4373-a161-cb73a6e6e488"
            },
            "attachments": {}
        },
        {
            "cell_type": "markdown",
            "source": [
                "**1. Repetitive tasks**"
            ],
            "metadata": {
                "azdata_cell_guid": "4d1fedaf-740c-4634-ae95-19e6e3cd3971"
            },
            "attachments": {}
        },
        {
            "cell_type": "code",
            "source": [
                ""
            ],
            "metadata": {
                "azdata_cell_guid": "663e935b-c99f-4020-b4cc-1c959f9c9bed",
                "language": "sql"
            },
            "outputs": [
                {
                    "output_type": "display_data",
                    "data": {
                        "text/html": "Commands completed successfully."
                    },
                    "metadata": {}
                },
                {
                    "output_type": "display_data",
                    "data": {
                        "text/html": "Total execution time: 00:00:00"
                    },
                    "metadata": {}
                }
            ],
            "execution_count": 1
        },
        {
            "cell_type": "markdown",
            "source": [
                ""
            ],
            "metadata": {
                "language": "sql",
                "azdata_cell_guid": "de350bdd-72c1-47f1-8884-140afc02e4a8"
            }
        },
        {
            "cell_type": "markdown",
            "source": [
                "**2. SELECT Clause**"
            ],
            "metadata": {
                "language": "sql",
                "azdata_cell_guid": "ce6a624b-dfa8-4bff-85b1-ac7b4f2c7699"
            },
            "attachments": {}
        },
        {
            "cell_type": "code",
            "source": [
                ""
            ],
            "metadata": {
                "language": "sql",
                "azdata_cell_guid": "f3b53bc5-a83c-42e8-9122-c7a1aabeaf25"
            },
            "outputs": [
                {
                    "output_type": "display_data",
                    "data": {
                        "text/html": "Commands completed successfully."
                    },
                    "metadata": {}
                },
                {
                    "output_type": "display_data",
                    "data": {
                        "text/html": "Total execution time: 00:00:00"
                    },
                    "metadata": {}
                }
            ],
            "execution_count": 2
        }
    ]
}